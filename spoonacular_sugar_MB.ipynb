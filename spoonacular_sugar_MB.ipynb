{
 "cells": [
  {
   "cell_type": "code",
   "execution_count": 13,
   "id": "02a47eb9",
   "metadata": {},
   "outputs": [],
   "source": [
    "## ETL Project 2 extra database for future use\n",
    "\n",
    "# Extract(optional,pull extended receipe data including sodium and sugar columns from spoonacular API  \n",
    "# transform to df by pandas\n",
    "# Load in pdadmin with database spoon_sugar with postgres, and save tables with sodium and sugar col, repectively\n",
    "\n",
    "# key variations from main table: \n",
    "##Based on research healthy meal should consider maxSugar and maxSodium, which is \n",
    "##less than 15 and between 200-500(here 100 per meal is setted), repectively. As followed:\n",
    "\n",
    "# maxSugar=25 \n",
    "# maxSodium=100\n",
    "# number=15\n",
    "# random=true"
   ]
  },
  {
   "cell_type": "code",
   "execution_count": 34,
   "id": "519f1cf2",
   "metadata": {},
   "outputs": [],
   "source": [
    "import requests\n",
    "import json\n",
    "import pandas as pd\n",
    "from sqlalchemy import create_engine\n",
    "import psycopg2"
   ]
  },
  {
   "cell_type": "code",
   "execution_count": 35,
   "id": "f6a60bac",
   "metadata": {},
   "outputs": [],
   "source": [
    "api_Key= \"384f494142cf48d19086f15bdb84231a\" #use a config file \n",
    "url = \"https://api.spoonacular.com/recipes/findByNutrients?maxSugar=25&maxSodium=100&number=15&random=true&apiKey=384f494142cf48d19086f15bdb84231a\"\n",
    "query_url = f'{url}&apiKey={api_Key}'\n",
    "#response\n"
   ]
  },
  {
   "cell_type": "code",
   "execution_count": 36,
   "id": "8eb51578",
   "metadata": {},
   "outputs": [],
   "source": [
    "# request parameters= {\n",
    "#  recipe_id:\n",
    "#  recipe_title:\n",
    "#  recipe_sodium:\n",
    "#  recipe_sugar:\n",
    "\n",
    "# above is additional to main table below\n",
    "    #     'minCarbs': 1,\n",
    "    #     'maxCarbs': 1,\n",
    "    #     'minProtein': 1,\n",
    "    #     'maxProtein': 1,\n",
    "    #     'minCalories': 1,\n",
    "    #     'maxCalories': 1,\n",
    "    #     'minFat': 1,\n",
    "    #     'maxFat': 1,\n",
    "    #     'minSugar': 1,\n",
    "    #     'maxSugar': 1,\n",
    "    #     'number': 15,\n",
    "    #     'random': 'true'\n",
    "    # "
   ]
  },
  {
   "cell_type": "code",
   "execution_count": 37,
   "id": "95eb1bc2",
   "metadata": {},
   "outputs": [
    {
     "ename": "KeyError",
     "evalue": "0",
     "output_type": "error",
     "traceback": [
      "\u001b[1;31m---------------------------------------------------------------------------\u001b[0m",
      "\u001b[1;31mKeyError\u001b[0m                                  Traceback (most recent call last)",
      "\u001b[1;32m<ipython-input-37-454b41d824ba>\u001b[0m in \u001b[0;36m<module>\u001b[1;34m\u001b[0m\n\u001b[0;32m     19\u001b[0m         \u001b[1;32mexcept\u001b[0m \u001b[0mKeyError\u001b[0m\u001b[1;33m:\u001b[0m\u001b[1;33m\u001b[0m\u001b[1;33m\u001b[0m\u001b[0m\n\u001b[0;32m     20\u001b[0m             \u001b[0mrecipe_id\u001b[0m\u001b[1;33m.\u001b[0m\u001b[0mappend\u001b[0m\u001b[1;33m(\u001b[0m\u001b[1;34m'null'\u001b[0m\u001b[1;33m)\u001b[0m\u001b[1;33m\u001b[0m\u001b[1;33m\u001b[0m\u001b[0m\n\u001b[1;32m---> 21\u001b[1;33m         \u001b[0mrecipe_title\u001b[0m\u001b[1;33m.\u001b[0m\u001b[0mappend\u001b[0m\u001b[1;33m(\u001b[0m\u001b[0mresponse\u001b[0m\u001b[1;33m[\u001b[0m\u001b[1;36m0\u001b[0m\u001b[1;33m]\u001b[0m\u001b[1;33m[\u001b[0m\u001b[1;34m'title'\u001b[0m\u001b[1;33m]\u001b[0m\u001b[1;33m)\u001b[0m\u001b[1;33m\u001b[0m\u001b[1;33m\u001b[0m\u001b[0m\n\u001b[0m\u001b[0;32m     22\u001b[0m         \u001b[0mrecipe_sodium\u001b[0m\u001b[1;33m.\u001b[0m\u001b[0mappend\u001b[0m\u001b[1;33m(\u001b[0m\u001b[0mresponse\u001b[0m\u001b[1;33m[\u001b[0m\u001b[1;36m0\u001b[0m\u001b[1;33m]\u001b[0m\u001b[1;33m[\u001b[0m\u001b[1;34m'sodium'\u001b[0m\u001b[1;33m]\u001b[0m\u001b[1;33m)\u001b[0m\u001b[1;33m\u001b[0m\u001b[1;33m\u001b[0m\u001b[0m\n\u001b[0;32m     23\u001b[0m         \u001b[0mrecipe_sugar\u001b[0m\u001b[1;33m.\u001b[0m\u001b[0mappend\u001b[0m\u001b[1;33m(\u001b[0m\u001b[0mresponse\u001b[0m\u001b[1;33m[\u001b[0m\u001b[1;36m0\u001b[0m\u001b[1;33m]\u001b[0m\u001b[1;33m[\u001b[0m\u001b[1;34m'sugar'\u001b[0m\u001b[1;33m]\u001b[0m\u001b[1;33m)\u001b[0m\u001b[1;33m\u001b[0m\u001b[1;33m\u001b[0m\u001b[0m\n",
      "\u001b[1;31mKeyError\u001b[0m: 0"
     ]
    }
   ],
   "source": [
    "counter = 0\n",
    "recipe_id = []\n",
    "recipe_title = []\n",
    "recipe_sodium = []\n",
    "recipe_sugar = []\n",
    "\n",
    "# recipe_calories = []\n",
    "# recipe_protein = []\n",
    "# recipe_fat = []\n",
    "# recipe_carbs = []\n",
    "\n",
    "while counter < 500:\n",
    "    query_url = f'{url}&apiKey={api_Key}'\n",
    "    response = requests.get(query_url).json()\n",
    "    \n",
    "    for i in range(len(response)):\n",
    "        try:\n",
    "            recipe_id.append(response[0]['id'])\n",
    "        except KeyError:\n",
    "            recipe_id.append('null')\n",
    "        recipe_title.append(response[0]['title'])\n",
    "        recipe_sodium.append(response[0]['sodium'])\n",
    "        recipe_sugar.append(response[0]['sugar'])\n",
    "#       recipe_calories.append(response[0]['calories'])\n",
    "#       recipe_protein.append(response[0]['protein'])\n",
    "#       recipe_fat.append(response[0]['fat'])\n",
    "#       recipe_carbs.append(response[0]['carbs'])\n",
    "    counter += 1"
   ]
  },
  {
   "cell_type": "code",
   "execution_count": null,
   "id": "ceddb2fd",
   "metadata": {},
   "outputs": [],
   "source": [
    "counter = 0\n",
    "recipe_id = []\n",
    "recipe_title = []\n",
    "recipe_img_url = []\n",
    "recipe_img_type = []\n",
    "recipe_calories = []\n",
    "recipe_protein = []\n",
    "recipe_fat = []\n",
    "recipe_carbs = []\n",
    "\n",
    "\n",
    "while counter < 250:\n",
    "    url = \"https://api.spoonacular.com/recipes/findByNutrients?minCalories=25&maxCalories=1500&number=1&random=true&apiKey=1ae666d5198d469aafaffc3957a2b406\"\n",
    "    response = requests.get(url)\n",
    "    result = response.json()\n",
    "    \n",
    "    for i in range(len(result)):\n",
    "        try:\n",
    "            recipe_id.append(result[0]['id'])\n",
    "        except KeyError:\n",
    "            recipe_id.append('null')\n",
    "        recipe_title.append(result[0]['title'])\n",
    "        recipe_img_url.append(result[0]['image'])\n",
    "        recipe_img_type.append(result[0]['imageType'])\n",
    "        recipe_calories.append(result[0]['calories'])\n",
    "        recipe_protein.append(result[0]['protein'])\n",
    "        recipe_fat.append(result[0]['fat'])\n",
    "        recipe_carbs.append(result[0]['carbs'])\n"
   ]
  },
  {
   "cell_type": "code",
   "execution_count": null,
   "id": "2edc9a45",
   "metadata": {
    "scrolled": true
   },
   "outputs": [],
   "source": [
    "cols = list(zip(recipe_id, recipe_title, recipe_sodium, recipe_sugar))\n",
    "df = pd.DataFrame(cols, columns=['Spoonacular Recipe ID', \"Recipe\", 'Recipe Sodium', \"Recipe Sugar\"])"
   ]
  },
  {
   "cell_type": "code",
   "execution_count": 57,
   "id": "c01e8ea3",
   "metadata": {
    "scrolled": true
   },
   "outputs": [
    {
     "data": {
      "text/plain": [
       "Index(['spoonacular_recipe_id', 'recipe', 'recipe_sodium', 'recipe_sugar'], dtype='object')"
      ]
     },
     "execution_count": 57,
     "metadata": {},
     "output_type": "execute_result"
    }
   ],
   "source": [
    "df.head()\n",
    "len(df)\n",
    "df.columns"
   ]
  },
  {
   "cell_type": "code",
   "execution_count": 39,
   "id": "a79f3226",
   "metadata": {},
   "outputs": [],
   "source": [
    "df.to_csv(\"spoonacular_recipes_sugar.csv\")"
   ]
  },
  {
   "cell_type": "code",
   "execution_count": 40,
   "id": "80a9d74c",
   "metadata": {
    "scrolled": true
   },
   "outputs": [
    {
     "name": "stdout",
     "output_type": "stream",
     "text": [
      "Unnamed: 0               0\n",
      "Spoonacular Recipe ID    0\n",
      "Recipe                   0\n",
      "Recipe Sodium            0\n",
      "Recipe Sugar             0\n",
      "dtype: int64\n"
     ]
    }
   ],
   "source": [
    "df = pd.read_csv ('spoonacular_recipes_sugar.csv')\n",
    "print(df.nunique())"
   ]
  },
  {
   "cell_type": "code",
   "execution_count": 58,
   "id": "7157fe03",
   "metadata": {},
   "outputs": [
    {
     "data": {
      "text/html": [
       "<div>\n",
       "<style scoped>\n",
       "    .dataframe tbody tr th:only-of-type {\n",
       "        vertical-align: middle;\n",
       "    }\n",
       "\n",
       "    .dataframe tbody tr th {\n",
       "        vertical-align: top;\n",
       "    }\n",
       "\n",
       "    .dataframe thead th {\n",
       "        text-align: right;\n",
       "    }\n",
       "</style>\n",
       "<table border=\"1\" class=\"dataframe\">\n",
       "  <thead>\n",
       "    <tr style=\"text-align: right;\">\n",
       "      <th></th>\n",
       "      <th>spoonacular_recipe_id</th>\n",
       "      <th>recipe</th>\n",
       "      <th>recipe_sodium</th>\n",
       "      <th>recipe_sugar</th>\n",
       "    </tr>\n",
       "  </thead>\n",
       "  <tbody>\n",
       "  </tbody>\n",
       "</table>\n",
       "</div>"
      ],
      "text/plain": [
       "Empty DataFrame\n",
       "Columns: [spoonacular_recipe_id, recipe, recipe_sodium, recipe_sugar]\n",
       "Index: []"
      ]
     },
     "execution_count": 58,
     "metadata": {},
     "output_type": "execute_result"
    }
   ],
   "source": [
    "df.head()\n"
   ]
  },
  {
   "cell_type": "code",
   "execution_count": 42,
   "id": "ace29099",
   "metadata": {},
   "outputs": [
    {
     "name": "stderr",
     "output_type": "stream",
     "text": [
      "C:\\Users\\adele\\anaconda3\\envs\\PythonData1\\lib\\site-packages\\ipykernel_launcher.py:1: FutureWarning: In a future version of pandas all arguments of DataFrame.drop except for the argument 'labels' will be keyword-only\n",
      "  \"\"\"Entry point for launching an IPython kernel.\n"
     ]
    }
   ],
   "source": [
    "df = df.drop('Unnamed: 0', 1)\n"
   ]
  },
  {
   "cell_type": "code",
   "execution_count": 43,
   "id": "82dc0152",
   "metadata": {},
   "outputs": [],
   "source": [
    "#df.head()"
   ]
  },
  {
   "cell_type": "code",
   "execution_count": 52,
   "id": "cca949cd",
   "metadata": {},
   "outputs": [
    {
     "data": {
      "text/html": [
       "<div>\n",
       "<style scoped>\n",
       "    .dataframe tbody tr th:only-of-type {\n",
       "        vertical-align: middle;\n",
       "    }\n",
       "\n",
       "    .dataframe tbody tr th {\n",
       "        vertical-align: top;\n",
       "    }\n",
       "\n",
       "    .dataframe thead th {\n",
       "        text-align: right;\n",
       "    }\n",
       "</style>\n",
       "<table border=\"1\" class=\"dataframe\">\n",
       "  <thead>\n",
       "    <tr style=\"text-align: right;\">\n",
       "      <th></th>\n",
       "      <th>spoonacular_recipe_id</th>\n",
       "      <th>recipe</th>\n",
       "      <th>recipe_sodium</th>\n",
       "      <th>recipe_sugar</th>\n",
       "    </tr>\n",
       "  </thead>\n",
       "  <tbody>\n",
       "  </tbody>\n",
       "</table>\n",
       "</div>"
      ],
      "text/plain": [
       "Empty DataFrame\n",
       "Columns: [spoonacular_recipe_id, recipe, recipe_sodium, recipe_sugar]\n",
       "Index: []"
      ]
     },
     "execution_count": 52,
     "metadata": {},
     "output_type": "execute_result"
    }
   ],
   "source": [
    "df.drop_duplicates()\n",
    "df = df.rename(columns={'Spoonacular Recipe ID': 'spoonacular_recipe_id',\n",
    "                        'Recipe': 'recipe',\n",
    "                        'Recipe Sodium': 'recipe_sodium',\n",
    "                        'Recipe Sugar': 'recipe_sugar',\n",
    "#                        'Recipe Calories': 'recipe_calories',\n",
    "#                        'Recipe Protein Content (grams)': 'recipe_protein_content_grams',\n",
    "#                        'Recipe Fat Content (grams)': 'recipe_fat_content_grams',\n",
    "#                        'Recipe Carbs Content (grams)': 'recipe_carbs_content_grams'\n",
    "                       })\n",
    "df.head()"
   ]
  },
  {
   "cell_type": "code",
   "execution_count": 53,
   "id": "109ba95d",
   "metadata": {},
   "outputs": [],
   "source": [
    "rds_connection_string = \"postgres:postgres@localhost:5432/spoon_sugar\"\n",
    "engine = create_engine(f'postgresql://{rds_connection_string}')"
   ]
  },
  {
   "cell_type": "code",
   "execution_count": 54,
   "id": "19dd8545",
   "metadata": {},
   "outputs": [
    {
     "name": "stderr",
     "output_type": "stream",
     "text": [
      "C:\\Users\\adele\\anaconda3\\envs\\PythonData1\\lib\\site-packages\\ipykernel_launcher.py:1: SADeprecationWarning: The Engine.table_names() method is deprecated and will be removed in a future release.  Please refer to Inspector.get_table_names(). (deprecated since: 1.4)\n",
      "  \"\"\"Entry point for launching an IPython kernel.\n"
     ]
    },
    {
     "data": {
      "text/plain": [
       "['spoon_sodium', 'spoon_sugar', 'spoonacular_recipes_sugar']"
      ]
     },
     "execution_count": 54,
     "metadata": {},
     "output_type": "execute_result"
    }
   ],
   "source": [
    "engine.table_names()"
   ]
  },
  {
   "cell_type": "code",
   "execution_count": 55,
   "id": "65fd45cc",
   "metadata": {},
   "outputs": [],
   "source": [
    "df.to_sql(name='spoonacular_recipes_sugar', con=engine, if_exists='append', index=False)"
   ]
  },
  {
   "cell_type": "code",
   "execution_count": null,
   "id": "d66c6743",
   "metadata": {},
   "outputs": [],
   "source": []
  },
  {
   "cell_type": "code",
   "execution_count": null,
   "id": "9e8e31c8",
   "metadata": {},
   "outputs": [],
   "source": []
  },
  {
   "cell_type": "code",
   "execution_count": null,
   "id": "668b58cd",
   "metadata": {},
   "outputs": [],
   "source": []
  },
  {
   "cell_type": "code",
   "execution_count": null,
   "id": "88802b9f",
   "metadata": {},
   "outputs": [],
   "source": []
  }
 ],
 "metadata": {
  "kernelspec": {
   "display_name": "PythonData1",
   "language": "python",
   "name": "pythondata1"
  },
  "language_info": {
   "codemirror_mode": {
    "name": "ipython",
    "version": 3
   },
   "file_extension": ".py",
   "mimetype": "text/x-python",
   "name": "python",
   "nbconvert_exporter": "python",
   "pygments_lexer": "ipython3",
   "version": "3.7.12"
  }
 },
 "nbformat": 4,
 "nbformat_minor": 5
}
