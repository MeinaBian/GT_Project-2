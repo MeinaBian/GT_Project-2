{
 "cells": [
  {
   "cell_type": "code",
   "execution_count": 1,
   "metadata": {},
   "outputs": [],
   "source": [
    "# Dependencies\n",
    "import pandas as pd\n",
    "import requests\n",
    "import psycopg2\n",
    "from sqlalchemy import create_engine, table"
   ]
  },
  {
   "cell_type": "code",
   "execution_count": 2,
   "metadata": {
    "scrolled": true
   },
   "outputs": [],
   "source": [
    "# Importing recipes from spoonacular\n",
    "api_key = \"a21364208c9d43719315d65c34faa384\"  ### will need to grab from config file\n",
    "# Using url for \"Get Recipe Information\" JSONs: https://spoonacular.com/food-api/docs#Get-Recipe-Information\n",
    "# url = \"https://api.spoonacular.com/recipes/10/information?includeNutrition=false\"\n",
    "\n",
    "id_df = pd.read_csv('unique_recipes.csv')\n",
    "id = id_df['0']\n",
    "\n",
    "# id = range(10)\n",
    "\n",
    "# Initializing lists for url and query_url\n",
    "url = []\n",
    "query_url = [None]*len(id)\n",
    "\n",
    "# Loop through a set of recipes up to a pre-determined amount\n",
    "for i in range(0, len(id)):\n",
    "    url.append(f\"https://api.spoonacular.com/recipes/{id[i]}/information?includeNutrition=false\")\n",
    "    query_url[i] = f'{url[i]}&apiKey={api_key}'\n"
   ]
  },
  {
   "cell_type": "code",
   "execution_count": 3,
   "metadata": {},
   "outputs": [
    {
     "name": "stdout",
     "output_type": "stream",
     "text": [
      "Recipe 663641 was not found.\n",
      "Recipe 664025 was not found.\n",
      "Recipe 655847 was not found.\n",
      "Recipe 639606 was not found.\n",
      "Recipe 664780 was not found.\n",
      "Recipe 640259 was not found.\n",
      "Recipe 648524 was not found.\n",
      "Recipe 641202 was not found.\n",
      "Recipe 641671 was not found.\n",
      "Recipe 633537 was not found.\n",
      "Recipe 641908 was not found.\n",
      "Recipe 634660 was not found.\n",
      "Recipe 634751 was not found.\n",
      "Recipe 659638 was not found.\n",
      "Recipe 660286 was not found.\n",
      "Recipe 635712 was not found.\n",
      "Recipe 660406 was not found.\n",
      "Recipe 636581 was not found.\n",
      "Recipe 661291 was not found.\n",
      "Recipe 637222 was not found.\n",
      "Recipe 653775 was not found.\n",
      "Recipe 646491 was not found.\n",
      "Recipe 663121 was not found.\n",
      "Recipe 663227 was not found.\n"
     ]
    }
   ],
   "source": [
    "from pprint import pprint\n",
    "# Initializing lists for results from query\n",
    "recipe_id = []\n",
    "recipe_name = []\n",
    "servings = []\n",
    "diets = []\n",
    "dairyFree = []\n",
    "vegan = []\n",
    "vegetarian = []\n",
    "ketogenic = []\n",
    "images = []\n",
    "source_url = []\n",
    "ingredients = []\n",
    "individual_ingre=[]\n",
    "\n",
    "# Looping through recipe JSONs\n",
    "count = 0\n",
    "ingred_list = []\n",
    "\n",
    "### Change the range later after number of recipes is agreed on.\n",
    "for i in range(0, len(id)):\n",
    "    \n",
    "    try:\n",
    "        random_list=[]\n",
    "        response = requests.get(query_url[i]).json()\n",
    "    \n",
    "        recipe_id.append(response['id'])\n",
    "        recipe_name.append(response['title'])\n",
    "        servings.append(response['servings'])\n",
    "        diets.append(response['diets'])\n",
    "        dairyFree.append(response['dairyFree'])\n",
    "        vegan.append(response['vegan'])\n",
    "        vegetarian.append(response['vegetarian'])\n",
    "#         ketogenic.append(response['ketogenic'])\n",
    "        images.append(response['image'])\n",
    "        source_url.append(response['sourceUrl'])\n",
    "        ingredients.append(response['extendedIngredients'])\n",
    "        \n",
    "        for ingre in ingredients:\n",
    "            for i in range(len(ingre)):\n",
    "                random_list.append(ingre[i][\"name\"])\n",
    "        individual_ingre.append(random_list)\n",
    "    except:\n",
    "        print(f'Recipe {id[i]} was not found.')"
   ]
  },
  {
   "cell_type": "code",
   "execution_count": 14,
   "metadata": {},
   "outputs": [
    {
     "data": {
      "text/html": [
       "<div>\n",
       "<style scoped>\n",
       "    .dataframe tbody tr th:only-of-type {\n",
       "        vertical-align: middle;\n",
       "    }\n",
       "\n",
       "    .dataframe tbody tr th {\n",
       "        vertical-align: top;\n",
       "    }\n",
       "\n",
       "    .dataframe thead th {\n",
       "        text-align: right;\n",
       "    }\n",
       "</style>\n",
       "<table border=\"1\" class=\"dataframe\">\n",
       "  <thead>\n",
       "    <tr style=\"text-align: right;\">\n",
       "      <th></th>\n",
       "      <th>ID</th>\n",
       "      <th>Recipe Name</th>\n",
       "      <th>Servings</th>\n",
       "      <th>Diets</th>\n",
       "      <th>Dairy Free</th>\n",
       "      <th>Vegan</th>\n",
       "      <th>Vegetarian</th>\n",
       "    </tr>\n",
       "  </thead>\n",
       "  <tbody>\n",
       "    <tr>\n",
       "      <th>0</th>\n",
       "      <td>1515523</td>\n",
       "      <td>Instant Pot BBQ Chicken Thighs</td>\n",
       "      <td>4</td>\n",
       "      <td>[gluten free, dairy free]</td>\n",
       "      <td>True</td>\n",
       "      <td>False</td>\n",
       "      <td>False</td>\n",
       "    </tr>\n",
       "    <tr>\n",
       "      <th>1</th>\n",
       "      <td>663559</td>\n",
       "      <td>Tomato and lentil soup</td>\n",
       "      <td>4</td>\n",
       "      <td>[gluten free, dairy free, lacto ovo vegetarian...</td>\n",
       "      <td>True</td>\n",
       "      <td>True</td>\n",
       "      <td>True</td>\n",
       "    </tr>\n",
       "    <tr>\n",
       "      <th>2</th>\n",
       "      <td>638996</td>\n",
       "      <td>Chocolate Dipped Coconut Macaroons</td>\n",
       "      <td>9</td>\n",
       "      <td>[gluten free]</td>\n",
       "      <td>False</td>\n",
       "      <td>False</td>\n",
       "      <td>False</td>\n",
       "    </tr>\n",
       "    <tr>\n",
       "      <th>3</th>\n",
       "      <td>647197</td>\n",
       "      <td>Honey Chipotle Pork Ribs</td>\n",
       "      <td>16</td>\n",
       "      <td>[gluten free, dairy free]</td>\n",
       "      <td>True</td>\n",
       "      <td>False</td>\n",
       "      <td>False</td>\n",
       "    </tr>\n",
       "    <tr>\n",
       "      <th>4</th>\n",
       "      <td>655392</td>\n",
       "      <td>Pear and Apple Crumble</td>\n",
       "      <td>8</td>\n",
       "      <td>[dairy free, lacto ovo vegetarian, vegan]</td>\n",
       "      <td>True</td>\n",
       "      <td>True</td>\n",
       "      <td>True</td>\n",
       "    </tr>\n",
       "  </tbody>\n",
       "</table>\n",
       "</div>"
      ],
      "text/plain": [
       "        ID                         Recipe Name  Servings  \\\n",
       "0  1515523      Instant Pot BBQ Chicken Thighs         4   \n",
       "1   663559              Tomato and lentil soup         4   \n",
       "2   638996  Chocolate Dipped Coconut Macaroons         9   \n",
       "3   647197            Honey Chipotle Pork Ribs        16   \n",
       "4   655392              Pear and Apple Crumble         8   \n",
       "\n",
       "                                               Diets  Dairy Free  Vegan  \\\n",
       "0                          [gluten free, dairy free]        True  False   \n",
       "1  [gluten free, dairy free, lacto ovo vegetarian...        True   True   \n",
       "2                                      [gluten free]       False  False   \n",
       "3                          [gluten free, dairy free]        True  False   \n",
       "4          [dairy free, lacto ovo vegetarian, vegan]        True   True   \n",
       "\n",
       "   Vegetarian  \n",
       "0       False  \n",
       "1        True  \n",
       "2       False  \n",
       "3       False  \n",
       "4        True  "
      ]
     },
     "execution_count": 14,
     "metadata": {},
     "output_type": "execute_result"
    }
   ],
   "source": [
    "# Develop dataframe from queried recipes\n",
    "recipe_df = pd.DataFrame({'ID': recipe_id,\n",
    "                          'Recipe Name': recipe_name,\n",
    "                          'Servings': servings,\n",
    "                          'Diets': diets,\n",
    "                          'Dairy Free': dairyFree,\n",
    "                          'Vegan': vegan,\n",
    "                          'Vegetarian': vegetarian\n",
    "## It looks like some recipes don't have an Image URL, source URL, or Ingredients list.\n",
    "## So these lists come up short compared to the above lists. \n",
    "## Commented out for the time being. Might need to add an \"if\" statement during the appending in the above cell.\n",
    "#                           'Image URL': images, \n",
    "#                           'Source URL': source_url,\n",
    "#                           'Ingredients': individual_ingre\n",
    "                        })\n",
    "                        \n",
    "recipe_forsql_df = recipe_df.rename(columns = {'Recipe Name':'Recipe_Name',\n",
    "                                               'Dairy Free':'Dairy_Free',\n",
    "                                               'Image URL':'Image_URL',\n",
    "                                               'Source URL':'Source_URL'\n",
    "                                              })\n",
    "# Display recipe_df\n",
    "recipe_df.head()"
   ]
  },
  {
   "cell_type": "code",
   "execution_count": 15,
   "metadata": {},
   "outputs": [],
   "source": [
    "rds_connection_string = 'postgres:postgres@localhost:5432/Project_2'\n",
    "engine = create_engine(f'postgresql://{rds_connection_string}')\n",
    "\n",
    "recipe_df.to_sql('recipe_df', con=engine, index=False, if_exists='replace')"
   ]
  },
  {
   "cell_type": "code",
   "execution_count": 13,
   "metadata": {},
   "outputs": [
    {
     "data": {
      "text/plain": [
       "1955"
      ]
     },
     "execution_count": 13,
     "metadata": {},
     "output_type": "execute_result"
    }
   ],
   "source": [
    "len(vegetarian)"
   ]
  },
  {
   "cell_type": "code",
   "execution_count": 6,
   "metadata": {},
   "outputs": [
    {
     "data": {
      "text/plain": [
       "1955"
      ]
     },
     "execution_count": 6,
     "metadata": {},
     "output_type": "execute_result"
    }
   ],
   "source": [
    "len(recipe_name)"
   ]
  },
  {
   "cell_type": "code",
   "execution_count": 9,
   "metadata": {},
   "outputs": [
    {
     "data": {
      "text/plain": [
       "1955"
      ]
     },
     "execution_count": 9,
     "metadata": {},
     "output_type": "execute_result"
    }
   ],
   "source": [
    "len(recipe_id)"
   ]
  },
  {
   "cell_type": "code",
   "execution_count": 10,
   "metadata": {},
   "outputs": [
    {
     "data": {
      "text/plain": [
       "1955"
      ]
     },
     "execution_count": 10,
     "metadata": {},
     "output_type": "execute_result"
    }
   ],
   "source": [
    "len(servings)"
   ]
  },
  {
   "cell_type": "code",
   "execution_count": null,
   "metadata": {},
   "outputs": [],
   "source": []
  }
 ],
 "metadata": {
  "kernelspec": {
   "display_name": "Python [conda env:PythonData] *",
   "language": "python",
   "name": "conda-env-PythonData-py"
  },
  "language_info": {
   "codemirror_mode": {
    "name": "ipython",
    "version": 3
   },
   "file_extension": ".py",
   "mimetype": "text/x-python",
   "name": "python",
   "nbconvert_exporter": "python",
   "pygments_lexer": "ipython3",
   "version": "3.6.10"
  }
 },
 "nbformat": 4,
 "nbformat_minor": 4
}
