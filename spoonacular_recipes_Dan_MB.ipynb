{
 "cells": [
  {
   "cell_type": "code",
   "execution_count": 105,
   "id": "955ac280",
   "metadata": {},
   "outputs": [],
   "source": [
    "import requests\n",
    "import json\n",
    "import pandas as pd\n",
    "from sqlalchemy import create_engine\n",
    "import psycopg2"
   ]
  },
  {
   "cell_type": "code",
   "execution_count": 22,
   "id": "5ad849bd",
   "metadata": {
    "collapsed": true
   },
   "outputs": [],
   "source": [
    "\n"
   ]
  },
  {
   "cell_type": "code",
   "execution_count": 23,
   "id": "82af13fe",
   "metadata": {
    "collapsed": true
   },
   "outputs": [],
   "source": [
    "# params = {\n",
    "#     'minCarbs': 1,\n",
    "#     'maxCarbs': 1,\n",
    "#     'minProtein': 1,\n",
    "#     'maxProtein': 1,\n",
    "#     'minCalories': 1,\n",
    "#     'maxCalories': 1,\n",
    "#     'minFat': 1,\n",
    "#     'maxFat': 1,\n",
    "#     'minSugar': 1,\n",
    "#     'maxSugar': 1,\n",
    "#     'number': 100,\n",
    "#     'random': 'true'\n",
    "# }"
   ]
  },
  {
   "cell_type": "code",
   "execution_count": 54,
   "id": "46a4157d",
   "metadata": {},
   "outputs": [
    {
     "name": "stdout",
     "output_type": "stream",
     "text": [
      "[632570, 656834, 642675, 632666, 650751, 715537, 635290, 652813, 664311, 31237, 649654, 646713, 639802, 636830, 632678, 643249, 663868, 661033, 665329, 649137, 661323, 639608, 640619, 639804, 648475, 660115, 715574, 639802, 644711, 68254, 713957, 649476, 647654, 641199, 665462, 716627, 659581, 640625, 635345, 663227, 663659, 657850, 661669, 646651, 631863, 650349, 662150, 656743, 647279, 631734, 645697, 658631, 632118, 664939, 638245, 640451, 664030, 662087, 648715, 646302, 661323, 635795, 661397, 660227, 661447, 662376, 662263, 610952, 651624, 991010, 639161, 646353, 642085, 649967, 640134, 649143, 1095804, 648190, 487193, 633093, 642373, 665734, 639588, 650650, 635769, 655847, 634318, 648582, 640062, 635488, 650493, 157459, 650654, 656925, 658269, 636080, 715538, 664280, 665767, 673449, 635215, 640509, 649483, 647261, 634726, 638464, 639807, 649638, 642678, 641565, 650546, 656298, 652814, 665019, 640321, 1055614, 658703, 649141, 654967, 636364, 632118, 642648, 662458, 673463, 659058, 639116, 643529, 665178, 639853, 652995, 665279, 652393, 665348, 661912, 660989, 665540, 646136, 1095713, 664269, 716195, 661395, 634556, 632789, 641897, 649985, 644038, 640338, 652260, 716276, 634715, 640229, 662363, 642835, 658531, 715569, 716408, 650751, 716269, 652753, 642406, 658598, 654274, 636812, 649186, 658661, 795751, 659906, 644255, 661886, 661059, 649000, 654905, 664655, 642546, 1697787, 643362, 650485, 638125, 653951, 642605, 634206, 635769, 658269, 636954, 640279, 662222, 636097, 655735, 1502523, 663535, 1095797, 649794, 658134, 640204, 653442, 639629, 658503, 658295, 157110, 644393, 665200, 715769, 650651, 633059, 663948, 650050, 645671, 637340, 632742, 655634, 665200, 649127, 642499, 639756, 645419, 639446, 633537, 665000, 656033, 652423, 664017, 721059, 636177, 635040, 657939, 1497523, 640067, 663867, 657981, 632874, 632173, 646302, 632884, 639535, 631882, 649730, 633255, 633704, 648300, 673444, 662376, 634059, 646651, 650147, 644020, 661510, 663448, 646499, 643789, 1454187]\n"
     ]
    }
   ],
   "source": [
    "counter = 0\n",
    "recipe_id = []\n",
    "recipe_title = []\n",
    "recipe_img_url = []\n",
    "recipe_img_type = []\n",
    "recipe_calories = []\n",
    "recipe_protein = []\n",
    "recipe_fat = []\n",
    "recipe_carbs = []\n",
    "\n",
    "\n",
    "while counter < 250:\n",
    "    url = \"https://api.spoonacular.com/recipes/findByNutrients?minCalories=25&maxCalories=1500&number=1&random=true&apiKey=YOURKEY HERE\"\n",
    "    response = requests.get(url)\n",
    "    result = response.json()\n",
    "    \n",
    "    for i in range(len(result)):\n",
    "        try:\n",
    "            recipe_id.append(result[0]['id'])\n",
    "        except KeyError:\n",
    "            recipe_id.append('null')\n",
    "        recipe_title.append(result[0]['title'])\n",
    "        recipe_img_url.append(result[0]['image'])\n",
    "        recipe_img_type.append(result[0]['imageType'])\n",
    "        recipe_calories.append(result[0]['calories'])\n",
    "        recipe_protein.append(result[0]['protein'])\n",
    "        recipe_fat.append(result[0]['fat'])\n",
    "        recipe_carbs.append(result[0]['carbs'])\n",
    "\n",
    "    counter += 1"
   ]
  },
  {
   "cell_type": "code",
   "execution_count": 55,
   "id": "6c7c7d04",
   "metadata": {
    "scrolled": true
   },
   "outputs": [],
   "source": [
    "zipped = list(zip(recipe_id, recipe_title, recipe_img_url, recipe_img_type, recipe_calories, recipe_protein, recipe_fat, recipe_carbs))\n",
    "df = pd.DataFrame(zipped, columns=['Spoonacular Recipe ID', \"Recipe\", 'Recipe Image URL', \"Recipe Image Type\", \"Recipe Calories\", \"Recipe Protein Content (grams)\", \"Recipe Fat Content (grams)\", \"Recipe Carbs Content (grams)\"])"
   ]
  },
  {
   "cell_type": "code",
   "execution_count": 56,
   "id": "00aa932b",
   "metadata": {
    "scrolled": true
   },
   "outputs": [
    {
     "data": {
      "text/plain": [
       "250"
      ]
     },
     "execution_count": 56,
     "metadata": {},
     "output_type": "execute_result"
    }
   ],
   "source": [
    "df.head()\n",
    "len(df)"
   ]
  },
  {
   "cell_type": "code",
   "execution_count": 57,
   "id": "7d7cb6f1",
   "metadata": {},
   "outputs": [],
   "source": [
    "df.to_csv(\"spoonacular_recipes.csv\")"
   ]
  },
  {
   "cell_type": "code",
   "execution_count": 167,
   "id": "d0f38a08",
   "metadata": {
    "scrolled": true
   },
   "outputs": [
    {
     "name": "stdout",
     "output_type": "stream",
     "text": [
      "Unnamed: 0                        2703\n",
      "Spoonacular Recipe ID             1955\n",
      "Recipe                            1955\n",
      "Recipe Image URL                  1955\n",
      "Recipe Image Type                    2\n",
      "Recipe Calories                    742\n",
      "Recipe Protein Content (grams)      82\n",
      "Recipe Fat Content (grams)          84\n",
      "Recipe Carbs Content (grams)       119\n",
      "dtype: int64\n"
     ]
    }
   ],
   "source": [
    "df = pd.read_csv ('spoonacular_recipes.csv')\n",
    "print(df.nunique())"
   ]
  },
  {
   "cell_type": "code",
   "execution_count": 157,
   "id": "5762e41d",
   "metadata": {},
   "outputs": [
    {
     "data": {
      "text/html": [
       "<div>\n",
       "<style scoped>\n",
       "    .dataframe tbody tr th:only-of-type {\n",
       "        vertical-align: middle;\n",
       "    }\n",
       "\n",
       "    .dataframe tbody tr th {\n",
       "        vertical-align: top;\n",
       "    }\n",
       "\n",
       "    .dataframe thead th {\n",
       "        text-align: right;\n",
       "    }\n",
       "</style>\n",
       "<table border=\"1\" class=\"dataframe\">\n",
       "  <thead>\n",
       "    <tr style=\"text-align: right;\">\n",
       "      <th></th>\n",
       "      <th>Unnamed: 0</th>\n",
       "      <th>Spoonacular Recipe ID</th>\n",
       "      <th>Recipe</th>\n",
       "      <th>Recipe Image URL</th>\n",
       "      <th>Recipe Image Type</th>\n",
       "      <th>Recipe Calories</th>\n",
       "      <th>Recipe Protein Content (grams)</th>\n",
       "      <th>Recipe Fat Content (grams)</th>\n",
       "      <th>Recipe Carbs Content (grams)</th>\n",
       "    </tr>\n",
       "  </thead>\n",
       "  <tbody>\n",
       "    <tr>\n",
       "      <th>0</th>\n",
       "      <td>0</td>\n",
       "      <td>649131</td>\n",
       "      <td>Kung Po Chicken</td>\n",
       "      <td>https://spoonacular.com/recipeImages/649131-31...</td>\n",
       "      <td>jpg</td>\n",
       "      <td>478</td>\n",
       "      <td>33g</td>\n",
       "      <td>34g</td>\n",
       "      <td>13g</td>\n",
       "    </tr>\n",
       "    <tr>\n",
       "      <th>1</th>\n",
       "      <td>1</td>\n",
       "      <td>656516</td>\n",
       "      <td>Poached Sole With Blood Orange Beurre Blanc</td>\n",
       "      <td>https://spoonacular.com/recipeImages/656516-31...</td>\n",
       "      <td>jpg</td>\n",
       "      <td>311</td>\n",
       "      <td>29g</td>\n",
       "      <td>19g</td>\n",
       "      <td>4g</td>\n",
       "    </tr>\n",
       "    <tr>\n",
       "      <th>2</th>\n",
       "      <td>2</td>\n",
       "      <td>640843</td>\n",
       "      <td>Crispy Southern Fried Chicken</td>\n",
       "      <td>https://spoonacular.com/recipeImages/640843-31...</td>\n",
       "      <td>jpg</td>\n",
       "      <td>613</td>\n",
       "      <td>36g</td>\n",
       "      <td>35g</td>\n",
       "      <td>36g</td>\n",
       "    </tr>\n",
       "    <tr>\n",
       "      <th>3</th>\n",
       "      <td>3</td>\n",
       "      <td>648467</td>\n",
       "      <td>Japanese Cucumber Salad</td>\n",
       "      <td>https://spoonacular.com/recipeImages/648467-31...</td>\n",
       "      <td>jpg</td>\n",
       "      <td>26</td>\n",
       "      <td>1g</td>\n",
       "      <td>1g</td>\n",
       "      <td>4g</td>\n",
       "    </tr>\n",
       "    <tr>\n",
       "      <th>4</th>\n",
       "      <td>4</td>\n",
       "      <td>643561</td>\n",
       "      <td>Fresh Peach With Goat Cheese Side Salad</td>\n",
       "      <td>https://spoonacular.com/recipeImages/643561-31...</td>\n",
       "      <td>jpg</td>\n",
       "      <td>179</td>\n",
       "      <td>7g</td>\n",
       "      <td>7g</td>\n",
       "      <td>26g</td>\n",
       "    </tr>\n",
       "  </tbody>\n",
       "</table>\n",
       "</div>"
      ],
      "text/plain": [
       "   Unnamed: 0  Spoonacular Recipe ID  \\\n",
       "0           0                 649131   \n",
       "1           1                 656516   \n",
       "2           2                 640843   \n",
       "3           3                 648467   \n",
       "4           4                 643561   \n",
       "\n",
       "                                        Recipe  \\\n",
       "0                              Kung Po Chicken   \n",
       "1  Poached Sole With Blood Orange Beurre Blanc   \n",
       "2                Crispy Southern Fried Chicken   \n",
       "3                      Japanese Cucumber Salad   \n",
       "4      Fresh Peach With Goat Cheese Side Salad   \n",
       "\n",
       "                                    Recipe Image URL Recipe Image Type  \\\n",
       "0  https://spoonacular.com/recipeImages/649131-31...               jpg   \n",
       "1  https://spoonacular.com/recipeImages/656516-31...               jpg   \n",
       "2  https://spoonacular.com/recipeImages/640843-31...               jpg   \n",
       "3  https://spoonacular.com/recipeImages/648467-31...               jpg   \n",
       "4  https://spoonacular.com/recipeImages/643561-31...               jpg   \n",
       "\n",
       "   Recipe Calories Recipe Protein Content (grams) Recipe Fat Content (grams)  \\\n",
       "0              478                            33g                        34g   \n",
       "1              311                            29g                        19g   \n",
       "2              613                            36g                        35g   \n",
       "3               26                             1g                         1g   \n",
       "4              179                             7g                         7g   \n",
       "\n",
       "  Recipe Carbs Content (grams)  \n",
       "0                          13g  \n",
       "1                           4g  \n",
       "2                          36g  \n",
       "3                           4g  \n",
       "4                          26g  "
      ]
     },
     "execution_count": 157,
     "metadata": {},
     "output_type": "execute_result"
    }
   ],
   "source": [
    "df.head()\n"
   ]
  },
  {
   "cell_type": "code",
   "execution_count": 158,
   "id": "5ee20742",
   "metadata": {},
   "outputs": [],
   "source": [
    "df = df.drop('Unnamed: 0', 1)\n"
   ]
  },
  {
   "cell_type": "code",
   "execution_count": 159,
   "id": "f5c1a455",
   "metadata": {},
   "outputs": [
    {
     "data": {
      "text/html": [
       "<div>\n",
       "<style scoped>\n",
       "    .dataframe tbody tr th:only-of-type {\n",
       "        vertical-align: middle;\n",
       "    }\n",
       "\n",
       "    .dataframe tbody tr th {\n",
       "        vertical-align: top;\n",
       "    }\n",
       "\n",
       "    .dataframe thead th {\n",
       "        text-align: right;\n",
       "    }\n",
       "</style>\n",
       "<table border=\"1\" class=\"dataframe\">\n",
       "  <thead>\n",
       "    <tr style=\"text-align: right;\">\n",
       "      <th></th>\n",
       "      <th>Spoonacular Recipe ID</th>\n",
       "      <th>Recipe</th>\n",
       "      <th>Recipe Image URL</th>\n",
       "      <th>Recipe Image Type</th>\n",
       "      <th>Recipe Calories</th>\n",
       "      <th>Recipe Protein Content (grams)</th>\n",
       "      <th>Recipe Fat Content (grams)</th>\n",
       "      <th>Recipe Carbs Content (grams)</th>\n",
       "    </tr>\n",
       "  </thead>\n",
       "  <tbody>\n",
       "    <tr>\n",
       "      <th>0</th>\n",
       "      <td>649131</td>\n",
       "      <td>Kung Po Chicken</td>\n",
       "      <td>https://spoonacular.com/recipeImages/649131-31...</td>\n",
       "      <td>jpg</td>\n",
       "      <td>478</td>\n",
       "      <td>33g</td>\n",
       "      <td>34g</td>\n",
       "      <td>13g</td>\n",
       "    </tr>\n",
       "    <tr>\n",
       "      <th>1</th>\n",
       "      <td>656516</td>\n",
       "      <td>Poached Sole With Blood Orange Beurre Blanc</td>\n",
       "      <td>https://spoonacular.com/recipeImages/656516-31...</td>\n",
       "      <td>jpg</td>\n",
       "      <td>311</td>\n",
       "      <td>29g</td>\n",
       "      <td>19g</td>\n",
       "      <td>4g</td>\n",
       "    </tr>\n",
       "    <tr>\n",
       "      <th>2</th>\n",
       "      <td>640843</td>\n",
       "      <td>Crispy Southern Fried Chicken</td>\n",
       "      <td>https://spoonacular.com/recipeImages/640843-31...</td>\n",
       "      <td>jpg</td>\n",
       "      <td>613</td>\n",
       "      <td>36g</td>\n",
       "      <td>35g</td>\n",
       "      <td>36g</td>\n",
       "    </tr>\n",
       "    <tr>\n",
       "      <th>3</th>\n",
       "      <td>648467</td>\n",
       "      <td>Japanese Cucumber Salad</td>\n",
       "      <td>https://spoonacular.com/recipeImages/648467-31...</td>\n",
       "      <td>jpg</td>\n",
       "      <td>26</td>\n",
       "      <td>1g</td>\n",
       "      <td>1g</td>\n",
       "      <td>4g</td>\n",
       "    </tr>\n",
       "    <tr>\n",
       "      <th>4</th>\n",
       "      <td>643561</td>\n",
       "      <td>Fresh Peach With Goat Cheese Side Salad</td>\n",
       "      <td>https://spoonacular.com/recipeImages/643561-31...</td>\n",
       "      <td>jpg</td>\n",
       "      <td>179</td>\n",
       "      <td>7g</td>\n",
       "      <td>7g</td>\n",
       "      <td>26g</td>\n",
       "    </tr>\n",
       "  </tbody>\n",
       "</table>\n",
       "</div>"
      ],
      "text/plain": [
       "   Spoonacular Recipe ID                                       Recipe  \\\n",
       "0                 649131                              Kung Po Chicken   \n",
       "1                 656516  Poached Sole With Blood Orange Beurre Blanc   \n",
       "2                 640843                Crispy Southern Fried Chicken   \n",
       "3                 648467                      Japanese Cucumber Salad   \n",
       "4                 643561      Fresh Peach With Goat Cheese Side Salad   \n",
       "\n",
       "                                    Recipe Image URL Recipe Image Type  \\\n",
       "0  https://spoonacular.com/recipeImages/649131-31...               jpg   \n",
       "1  https://spoonacular.com/recipeImages/656516-31...               jpg   \n",
       "2  https://spoonacular.com/recipeImages/640843-31...               jpg   \n",
       "3  https://spoonacular.com/recipeImages/648467-31...               jpg   \n",
       "4  https://spoonacular.com/recipeImages/643561-31...               jpg   \n",
       "\n",
       "   Recipe Calories Recipe Protein Content (grams) Recipe Fat Content (grams)  \\\n",
       "0              478                            33g                        34g   \n",
       "1              311                            29g                        19g   \n",
       "2              613                            36g                        35g   \n",
       "3               26                             1g                         1g   \n",
       "4              179                             7g                         7g   \n",
       "\n",
       "  Recipe Carbs Content (grams)  \n",
       "0                          13g  \n",
       "1                           4g  \n",
       "2                          36g  \n",
       "3                           4g  \n",
       "4                          26g  "
      ]
     },
     "execution_count": 159,
     "metadata": {},
     "output_type": "execute_result"
    }
   ],
   "source": [
    "df.head()"
   ]
  },
  {
   "cell_type": "code",
   "execution_count": 160,
   "id": "3da26be4",
   "metadata": {},
   "outputs": [
    {
     "data": {
      "text/html": [
       "<div>\n",
       "<style scoped>\n",
       "    .dataframe tbody tr th:only-of-type {\n",
       "        vertical-align: middle;\n",
       "    }\n",
       "\n",
       "    .dataframe tbody tr th {\n",
       "        vertical-align: top;\n",
       "    }\n",
       "\n",
       "    .dataframe thead th {\n",
       "        text-align: right;\n",
       "    }\n",
       "</style>\n",
       "<table border=\"1\" class=\"dataframe\">\n",
       "  <thead>\n",
       "    <tr style=\"text-align: right;\">\n",
       "      <th></th>\n",
       "      <th>spoonacular_recipe_id</th>\n",
       "      <th>recipe</th>\n",
       "      <th>recipe_image_url</th>\n",
       "      <th>recipe_image_type</th>\n",
       "      <th>recipe_calories</th>\n",
       "      <th>recipe_protein_content_grams</th>\n",
       "      <th>recipe_fat_content_grams</th>\n",
       "      <th>recipe_carbs_content_grams</th>\n",
       "    </tr>\n",
       "  </thead>\n",
       "  <tbody>\n",
       "    <tr>\n",
       "      <th>0</th>\n",
       "      <td>649131</td>\n",
       "      <td>Kung Po Chicken</td>\n",
       "      <td>https://spoonacular.com/recipeImages/649131-31...</td>\n",
       "      <td>jpg</td>\n",
       "      <td>478</td>\n",
       "      <td>33g</td>\n",
       "      <td>34g</td>\n",
       "      <td>13g</td>\n",
       "    </tr>\n",
       "    <tr>\n",
       "      <th>1</th>\n",
       "      <td>656516</td>\n",
       "      <td>Poached Sole With Blood Orange Beurre Blanc</td>\n",
       "      <td>https://spoonacular.com/recipeImages/656516-31...</td>\n",
       "      <td>jpg</td>\n",
       "      <td>311</td>\n",
       "      <td>29g</td>\n",
       "      <td>19g</td>\n",
       "      <td>4g</td>\n",
       "    </tr>\n",
       "    <tr>\n",
       "      <th>2</th>\n",
       "      <td>640843</td>\n",
       "      <td>Crispy Southern Fried Chicken</td>\n",
       "      <td>https://spoonacular.com/recipeImages/640843-31...</td>\n",
       "      <td>jpg</td>\n",
       "      <td>613</td>\n",
       "      <td>36g</td>\n",
       "      <td>35g</td>\n",
       "      <td>36g</td>\n",
       "    </tr>\n",
       "    <tr>\n",
       "      <th>3</th>\n",
       "      <td>648467</td>\n",
       "      <td>Japanese Cucumber Salad</td>\n",
       "      <td>https://spoonacular.com/recipeImages/648467-31...</td>\n",
       "      <td>jpg</td>\n",
       "      <td>26</td>\n",
       "      <td>1g</td>\n",
       "      <td>1g</td>\n",
       "      <td>4g</td>\n",
       "    </tr>\n",
       "    <tr>\n",
       "      <th>4</th>\n",
       "      <td>643561</td>\n",
       "      <td>Fresh Peach With Goat Cheese Side Salad</td>\n",
       "      <td>https://spoonacular.com/recipeImages/643561-31...</td>\n",
       "      <td>jpg</td>\n",
       "      <td>179</td>\n",
       "      <td>7g</td>\n",
       "      <td>7g</td>\n",
       "      <td>26g</td>\n",
       "    </tr>\n",
       "  </tbody>\n",
       "</table>\n",
       "</div>"
      ],
      "text/plain": [
       "   spoonacular_recipe_id                                       recipe  \\\n",
       "0                 649131                              Kung Po Chicken   \n",
       "1                 656516  Poached Sole With Blood Orange Beurre Blanc   \n",
       "2                 640843                Crispy Southern Fried Chicken   \n",
       "3                 648467                      Japanese Cucumber Salad   \n",
       "4                 643561      Fresh Peach With Goat Cheese Side Salad   \n",
       "\n",
       "                                    recipe_image_url recipe_image_type  \\\n",
       "0  https://spoonacular.com/recipeImages/649131-31...               jpg   \n",
       "1  https://spoonacular.com/recipeImages/656516-31...               jpg   \n",
       "2  https://spoonacular.com/recipeImages/640843-31...               jpg   \n",
       "3  https://spoonacular.com/recipeImages/648467-31...               jpg   \n",
       "4  https://spoonacular.com/recipeImages/643561-31...               jpg   \n",
       "\n",
       "   recipe_calories recipe_protein_content_grams recipe_fat_content_grams  \\\n",
       "0              478                          33g                      34g   \n",
       "1              311                          29g                      19g   \n",
       "2              613                          36g                      35g   \n",
       "3               26                           1g                       1g   \n",
       "4              179                           7g                       7g   \n",
       "\n",
       "  recipe_carbs_content_grams  \n",
       "0                        13g  \n",
       "1                         4g  \n",
       "2                        36g  \n",
       "3                         4g  \n",
       "4                        26g  "
      ]
     },
     "execution_count": 160,
     "metadata": {},
     "output_type": "execute_result"
    }
   ],
   "source": [
    "df.drop_duplicates()\n",
    "df = df.rename(columns={'Spoonacular Recipe ID': 'spoonacular_recipe_id',\n",
    "                        'Recipe': 'recipe',\n",
    "                        'Recipe Image URL': 'recipe_image_url',\n",
    "                        'Recipe Image Type': 'recipe_image_type',\n",
    "                       'Recipe Calories': 'recipe_calories',\n",
    "                       'Recipe Protein Content (grams)': 'recipe_protein_content_grams',\n",
    "                       'Recipe Fat Content (grams)': 'recipe_fat_content_grams',\n",
    "                       'Recipe Carbs Content (grams)': 'recipe_carbs_content_grams'})\n",
    "df.head()"
   ]
  },
  {
   "cell_type": "code",
   "execution_count": 164,
   "id": "4f5bcc89",
   "metadata": {},
   "outputs": [],
   "source": [
    "rds_connection_string = \"postgres:postgres@localhost:5432/youarewhatyoueat\"\n",
    "engine = create_engine(f'postgresql://{rds_connection_string}')"
   ]
  },
  {
   "cell_type": "code",
   "execution_count": 165,
   "id": "e28645e0",
   "metadata": {},
   "outputs": [
    {
     "data": {
      "text/plain": [
       "['spoonacular_recipes']"
      ]
     },
     "execution_count": 165,
     "metadata": {},
     "output_type": "execute_result"
    }
   ],
   "source": [
    "engine.table_names()"
   ]
  },
  {
   "cell_type": "code",
   "execution_count": null,
   "id": "50d10ac3",
   "metadata": {},
   "outputs": [],
   "source": [
    "df.to_sql(name='spoonacular_recipes', con=engine, if_exists='append', index=False)"
   ]
  },
  {
   "cell_type": "code",
   "execution_count": null,
   "id": "89c1b3c9",
   "metadata": {},
   "outputs": [],
   "source": []
  },
  {
   "cell_type": "code",
   "execution_count": null,
   "id": "7ed5b476",
   "metadata": {},
   "outputs": [],
   "source": []
  },
  {
   "cell_type": "code",
   "execution_count": null,
   "id": "8178b2a8",
   "metadata": {
    "collapsed": true
   },
   "outputs": [],
   "source": []
  },
  {
   "cell_type": "code",
   "execution_count": null,
   "id": "1208194e",
   "metadata": {},
   "outputs": [],
   "source": []
  },
  {
   "cell_type": "code",
   "execution_count": null,
   "id": "4a9d2949",
   "metadata": {
    "collapsed": true
   },
   "outputs": [],
   "source": []
  },
  {
   "cell_type": "code",
   "execution_count": 68,
   "id": "98581502",
   "metadata": {
    "collapsed": true
   },
   "outputs": [],
   "source": []
  },
  {
   "cell_type": "code",
   "execution_count": null,
   "id": "cf8386d7",
   "metadata": {},
   "outputs": [],
   "source": [
    "\n",
    "\n"
   ]
  },
  {
   "cell_type": "code",
   "execution_count": null,
   "id": "b5d5cf4f",
   "metadata": {
    "collapsed": true
   },
   "outputs": [],
   "source": []
  }
 ],
 "metadata": {
  "kernelspec": {
   "display_name": "Python 3",
   "language": "python",
   "name": "python3"
  },
  "language_info": {
   "codemirror_mode": {
    "name": "ipython",
    "version": 3
   },
   "file_extension": ".py",
   "mimetype": "text/x-python",
   "name": "python",
   "nbconvert_exporter": "python",
   "pygments_lexer": "ipython3",
   "version": "3.7.12"
  }
 },
 "nbformat": 4,
 "nbformat_minor": 5
}
